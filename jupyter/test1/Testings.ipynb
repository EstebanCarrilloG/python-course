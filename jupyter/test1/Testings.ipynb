{
 "cells": [
  {
   "cell_type": "code",
   "execution_count": 2,
   "id": "5fb94799-3fc5-4d1f-973c-941d52a33f9a",
   "metadata": {},
   "outputs": [
    {
     "name": "stdout",
     "output_type": "stream",
     "text": [
      "hello world\n",
      "1\n",
      "[1, 2, 3, 4]\n"
     ]
    }
   ],
   "source": [
    "print(\"hello world\")\n",
    "print(1)\n",
    "print([1,2,3,4])"
   ]
  },
  {
   "cell_type": "code",
   "execution_count": 7,
   "id": "1d36c99a-a6e0-4c2e-801b-5772001e9148",
   "metadata": {},
   "outputs": [
    {
     "name": "stdout",
     "output_type": "stream",
     "text": [
      "{'name': 'Esteban c'}\n"
     ]
    }
   ],
   "source": [
    "print({\"name\":\"Esteban c\"})"
   ]
  },
  {
   "cell_type": "code",
   "execution_count": null,
   "id": "5d6a9a10-4e8d-4ca3-a81c-a882fa917341",
   "metadata": {},
   "outputs": [],
   "source": []
  }
 ],
 "metadata": {
  "kernelspec": {
   "display_name": "Python 3 (ipykernel)",
   "language": "python",
   "name": "python3"
  },
  "language_info": {
   "codemirror_mode": {
    "name": "ipython",
    "version": 3
   },
   "file_extension": ".py",
   "mimetype": "text/x-python",
   "name": "python",
   "nbconvert_exporter": "python",
   "pygments_lexer": "ipython3",
   "version": "3.11.3"
  }
 },
 "nbformat": 4,
 "nbformat_minor": 5
}
